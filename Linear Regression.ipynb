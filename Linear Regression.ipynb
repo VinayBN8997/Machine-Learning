{
 "cells": [
  {
   "cell_type": "code",
   "execution_count": 108,
   "metadata": {
    "collapsed": true
   },
   "outputs": [],
   "source": [
    "import pandas as pd\n",
    "import numpy as np\n",
    "import matplotlib.pyplot as plt\n",
    "%matplotlib inline"
   ]
  },
  {
   "cell_type": "code",
   "execution_count": 109,
   "metadata": {
    "collapsed": true
   },
   "outputs": [],
   "source": [
    "data = pd.DataFrame({'x':[138,125,171,161,154,143,125,137,122,182,173,175],\n",
    "                     'y':[47,45,51,50,47,48,41,49,42,56,53,53]})"
   ]
  },
  {
   "cell_type": "code",
   "execution_count": 110,
   "metadata": {},
   "outputs": [
    {
     "data": {
      "text/html": [
       "<div>\n",
       "<style scoped>\n",
       "    .dataframe tbody tr th:only-of-type {\n",
       "        vertical-align: middle;\n",
       "    }\n",
       "\n",
       "    .dataframe tbody tr th {\n",
       "        vertical-align: top;\n",
       "    }\n",
       "\n",
       "    .dataframe thead th {\n",
       "        text-align: right;\n",
       "    }\n",
       "</style>\n",
       "<table border=\"1\" class=\"dataframe\">\n",
       "  <thead>\n",
       "    <tr style=\"text-align: right;\">\n",
       "      <th></th>\n",
       "      <th>x</th>\n",
       "      <th>y</th>\n",
       "    </tr>\n",
       "  </thead>\n",
       "  <tbody>\n",
       "    <tr>\n",
       "      <th>0</th>\n",
       "      <td>138</td>\n",
       "      <td>47</td>\n",
       "    </tr>\n",
       "    <tr>\n",
       "      <th>1</th>\n",
       "      <td>125</td>\n",
       "      <td>45</td>\n",
       "    </tr>\n",
       "    <tr>\n",
       "      <th>2</th>\n",
       "      <td>171</td>\n",
       "      <td>51</td>\n",
       "    </tr>\n",
       "    <tr>\n",
       "      <th>3</th>\n",
       "      <td>161</td>\n",
       "      <td>50</td>\n",
       "    </tr>\n",
       "    <tr>\n",
       "      <th>4</th>\n",
       "      <td>154</td>\n",
       "      <td>47</td>\n",
       "    </tr>\n",
       "    <tr>\n",
       "      <th>5</th>\n",
       "      <td>143</td>\n",
       "      <td>48</td>\n",
       "    </tr>\n",
       "    <tr>\n",
       "      <th>6</th>\n",
       "      <td>125</td>\n",
       "      <td>41</td>\n",
       "    </tr>\n",
       "    <tr>\n",
       "      <th>7</th>\n",
       "      <td>137</td>\n",
       "      <td>49</td>\n",
       "    </tr>\n",
       "    <tr>\n",
       "      <th>8</th>\n",
       "      <td>122</td>\n",
       "      <td>42</td>\n",
       "    </tr>\n",
       "    <tr>\n",
       "      <th>9</th>\n",
       "      <td>182</td>\n",
       "      <td>56</td>\n",
       "    </tr>\n",
       "    <tr>\n",
       "      <th>10</th>\n",
       "      <td>173</td>\n",
       "      <td>53</td>\n",
       "    </tr>\n",
       "    <tr>\n",
       "      <th>11</th>\n",
       "      <td>175</td>\n",
       "      <td>53</td>\n",
       "    </tr>\n",
       "  </tbody>\n",
       "</table>\n",
       "</div>"
      ],
      "text/plain": [
       "      x   y\n",
       "0   138  47\n",
       "1   125  45\n",
       "2   171  51\n",
       "3   161  50\n",
       "4   154  47\n",
       "5   143  48\n",
       "6   125  41\n",
       "7   137  49\n",
       "8   122  42\n",
       "9   182  56\n",
       "10  173  53\n",
       "11  175  53"
      ]
     },
     "execution_count": 110,
     "metadata": {},
     "output_type": "execute_result"
    }
   ],
   "source": [
    "data"
   ]
  },
  {
   "cell_type": "code",
   "execution_count": 133,
   "metadata": {
    "collapsed": true
   },
   "outputs": [],
   "source": [
    "N = len(data)"
   ]
  },
  {
   "cell_type": "code",
   "execution_count": 111,
   "metadata": {},
   "outputs": [],
   "source": [
    "data['x-xbar'] = data['x'] - np.mean(data['x'])\n",
    "data['y-ybar'] = data['y'] - np.mean(data['y'])\n",
    "data['x-xbar_sq'] = data['x-xbar']**2"
   ]
  },
  {
   "cell_type": "code",
   "execution_count": 112,
   "metadata": {
    "collapsed": true
   },
   "outputs": [],
   "source": [
    "m = sum(data['x-xbar']*data['y-ybar'])/sum(data['x-xbar_sq'])"
   ]
  },
  {
   "cell_type": "code",
   "execution_count": 113,
   "metadata": {},
   "outputs": [
    {
     "data": {
      "text/plain": [
       "0.19246455622450961"
      ]
     },
     "execution_count": 113,
     "metadata": {},
     "output_type": "execute_result"
    }
   ],
   "source": [
    "m"
   ]
  },
  {
   "cell_type": "code",
   "execution_count": 114,
   "metadata": {},
   "outputs": [],
   "source": [
    "c = np.mean(data['y']) - m*np.mean(data['x'])"
   ]
  },
  {
   "cell_type": "code",
   "execution_count": 115,
   "metadata": {},
   "outputs": [
    {
     "data": {
      "text/plain": [
       "19.534084288211304"
      ]
     },
     "execution_count": 115,
     "metadata": {},
     "output_type": "execute_result"
    }
   ],
   "source": [
    "c"
   ]
  },
  {
   "cell_type": "code",
   "execution_count": 116,
   "metadata": {
    "collapsed": true
   },
   "outputs": [],
   "source": [
    "data['y_predict'] = m*data['x'] + c"
   ]
  },
  {
   "cell_type": "code",
   "execution_count": 117,
   "metadata": {},
   "outputs": [
    {
     "data": {
      "text/html": [
       "<div>\n",
       "<style scoped>\n",
       "    .dataframe tbody tr th:only-of-type {\n",
       "        vertical-align: middle;\n",
       "    }\n",
       "\n",
       "    .dataframe tbody tr th {\n",
       "        vertical-align: top;\n",
       "    }\n",
       "\n",
       "    .dataframe thead th {\n",
       "        text-align: right;\n",
       "    }\n",
       "</style>\n",
       "<table border=\"1\" class=\"dataframe\">\n",
       "  <thead>\n",
       "    <tr style=\"text-align: right;\">\n",
       "      <th></th>\n",
       "      <th>x</th>\n",
       "      <th>y</th>\n",
       "      <th>x-xbar</th>\n",
       "      <th>y-ybar</th>\n",
       "      <th>x-xbar_sq</th>\n",
       "      <th>y_predict</th>\n",
       "    </tr>\n",
       "  </thead>\n",
       "  <tbody>\n",
       "    <tr>\n",
       "      <th>0</th>\n",
       "      <td>138</td>\n",
       "      <td>47</td>\n",
       "      <td>-12.5</td>\n",
       "      <td>-1.5</td>\n",
       "      <td>156.25</td>\n",
       "      <td>46.094193</td>\n",
       "    </tr>\n",
       "    <tr>\n",
       "      <th>1</th>\n",
       "      <td>125</td>\n",
       "      <td>45</td>\n",
       "      <td>-25.5</td>\n",
       "      <td>-3.5</td>\n",
       "      <td>650.25</td>\n",
       "      <td>43.592154</td>\n",
       "    </tr>\n",
       "    <tr>\n",
       "      <th>2</th>\n",
       "      <td>171</td>\n",
       "      <td>51</td>\n",
       "      <td>20.5</td>\n",
       "      <td>2.5</td>\n",
       "      <td>420.25</td>\n",
       "      <td>52.445523</td>\n",
       "    </tr>\n",
       "    <tr>\n",
       "      <th>3</th>\n",
       "      <td>161</td>\n",
       "      <td>50</td>\n",
       "      <td>10.5</td>\n",
       "      <td>1.5</td>\n",
       "      <td>110.25</td>\n",
       "      <td>50.520878</td>\n",
       "    </tr>\n",
       "    <tr>\n",
       "      <th>4</th>\n",
       "      <td>154</td>\n",
       "      <td>47</td>\n",
       "      <td>3.5</td>\n",
       "      <td>-1.5</td>\n",
       "      <td>12.25</td>\n",
       "      <td>49.173626</td>\n",
       "    </tr>\n",
       "    <tr>\n",
       "      <th>5</th>\n",
       "      <td>143</td>\n",
       "      <td>48</td>\n",
       "      <td>-7.5</td>\n",
       "      <td>-0.5</td>\n",
       "      <td>56.25</td>\n",
       "      <td>47.056516</td>\n",
       "    </tr>\n",
       "    <tr>\n",
       "      <th>6</th>\n",
       "      <td>125</td>\n",
       "      <td>41</td>\n",
       "      <td>-25.5</td>\n",
       "      <td>-7.5</td>\n",
       "      <td>650.25</td>\n",
       "      <td>43.592154</td>\n",
       "    </tr>\n",
       "    <tr>\n",
       "      <th>7</th>\n",
       "      <td>137</td>\n",
       "      <td>49</td>\n",
       "      <td>-13.5</td>\n",
       "      <td>0.5</td>\n",
       "      <td>182.25</td>\n",
       "      <td>45.901728</td>\n",
       "    </tr>\n",
       "    <tr>\n",
       "      <th>8</th>\n",
       "      <td>122</td>\n",
       "      <td>42</td>\n",
       "      <td>-28.5</td>\n",
       "      <td>-6.5</td>\n",
       "      <td>812.25</td>\n",
       "      <td>43.014760</td>\n",
       "    </tr>\n",
       "    <tr>\n",
       "      <th>9</th>\n",
       "      <td>182</td>\n",
       "      <td>56</td>\n",
       "      <td>31.5</td>\n",
       "      <td>7.5</td>\n",
       "      <td>992.25</td>\n",
       "      <td>54.562634</td>\n",
       "    </tr>\n",
       "    <tr>\n",
       "      <th>10</th>\n",
       "      <td>173</td>\n",
       "      <td>53</td>\n",
       "      <td>22.5</td>\n",
       "      <td>4.5</td>\n",
       "      <td>506.25</td>\n",
       "      <td>52.830453</td>\n",
       "    </tr>\n",
       "    <tr>\n",
       "      <th>11</th>\n",
       "      <td>175</td>\n",
       "      <td>53</td>\n",
       "      <td>24.5</td>\n",
       "      <td>4.5</td>\n",
       "      <td>600.25</td>\n",
       "      <td>53.215382</td>\n",
       "    </tr>\n",
       "  </tbody>\n",
       "</table>\n",
       "</div>"
      ],
      "text/plain": [
       "      x   y  x-xbar  y-ybar  x-xbar_sq  y_predict\n",
       "0   138  47   -12.5    -1.5     156.25  46.094193\n",
       "1   125  45   -25.5    -3.5     650.25  43.592154\n",
       "2   171  51    20.5     2.5     420.25  52.445523\n",
       "3   161  50    10.5     1.5     110.25  50.520878\n",
       "4   154  47     3.5    -1.5      12.25  49.173626\n",
       "5   143  48    -7.5    -0.5      56.25  47.056516\n",
       "6   125  41   -25.5    -7.5     650.25  43.592154\n",
       "7   137  49   -13.5     0.5     182.25  45.901728\n",
       "8   122  42   -28.5    -6.5     812.25  43.014760\n",
       "9   182  56    31.5     7.5     992.25  54.562634\n",
       "10  173  53    22.5     4.5     506.25  52.830453\n",
       "11  175  53    24.5     4.5     600.25  53.215382"
      ]
     },
     "execution_count": 117,
     "metadata": {},
     "output_type": "execute_result"
    }
   ],
   "source": [
    "data"
   ]
  },
  {
   "cell_type": "code",
   "execution_count": 128,
   "metadata": {},
   "outputs": [
    {
     "data": {
      "image/png": "[encoded data removed]",
      "text/plain": [
       "<matplotlib.figure.Figure at 0x7f641261c898>"
      ]
     },
     "metadata": {},
     "output_type": "display_data"
    }
   ],
   "source": [
    "plt.figure(figsize = (12,8))\n",
    "plt.scatter(data['x'],data['y'],color = 'r',label = \"Actual value\")\n",
    "plt.plot(data['x'],data['y_predict'],color = 'g',label = \"Regression line\")\n",
    "plt.scatter(data['x'],data['y_predict'],color = 'g',label = \"Predicted value\")\n",
    "plt.xlabel(\"Height in cms\")\n",
    "plt.ylabel(\"Weight in kgs\")\n",
    "plt.legend()\n",
    "plt.savefig(\"Plot_1.png\",dpi = 1000)"
   ]
  },
  {
   "cell_type": "code",
   "execution_count": 120,
   "metadata": {
    "collapsed": true
   },
   "outputs": [],
   "source": [
    "R_sq = sum((data['y_predict'] - np.mean(data['y']))**2)/sum((data['y'] - np.mean(data['y']))**2)"
   ]
  },
  {
   "cell_type": "code",
   "execution_count": 121,
   "metadata": {},
   "outputs": [
    {
     "data": {
      "text/plain": [
       "0.863042421803118"
      ]
     },
     "execution_count": 121,
     "metadata": {},
     "output_type": "execute_result"
    }
   ],
   "source": [
    "R_sq"
   ]
  },
  {
   "cell_type": "code",
   "execution_count": null,
   "metadata": {
    "collapsed": true
   },
   "outputs": [],
   "source": [
    "R_sq_adjusted = 1 - (((1 - R_sq)*(N-1))/(N - ))"
   ]
  },
  {
   "cell_type": "code",
   "execution_count": 131,
   "metadata": {},
   "outputs": [
    {
     "name": "stdout",
     "output_type": "stream",
     "text": [
      "0.5818860763778095\n"
     ]
    }
   ],
   "source": [
    "data = pd.DataFrame({'x':[138,125,171,161,154,143,125,137,122,182,173,175],\n",
    "                     'y':[47,45,51,41,47,48,41,49,42,56,53,53]})\n",
    "data['x-xbar'] = data['x'] - np.mean(data['x'])\n",
    "data['y-ybar'] = data['y'] - np.mean(data['y'])\n",
    "data['x-xbar_sq'] = data['x-xbar']**2\n",
    "m = sum(data['x-xbar']*data['y-ybar'])/sum(data['x-xbar_sq'])\n",
    "c = np.mean(data['y']) - m*np.mean(data['x'])\n",
    "data['y_predict'] = m*data['x'] + c\n",
    "R_sq = sum((data['y_predict'] - np.mean(data['y']))**2)/sum((data['y'] - np.mean(data['y']))**2)\n",
    "print(R_sq)"
   ]
  },
  {
   "cell_type": "code",
   "execution_count": 132,
   "metadata": {},
   "outputs": [
    {
     "data": {
      "image/png": "[encoded data removed]",
      "text/plain": [
       "<matplotlib.figure.Figure at 0x7f64125a1b00>"
      ]
     },
     "metadata": {},
     "output_type": "display_data"
    }
   ],
   "source": [
    "plt.figure(figsize = (12,8))\n",
    "plt.scatter(data['x'],data['y'],color = 'r',label = \"Actual value\")\n",
    "plt.plot(data['x'],data['y_predict'],color = 'g',label = \"Regression line\")\n",
    "plt.scatter(data['x'],data['y_predict'],color = 'g',label = \"Predicted value\")\n",
    "plt.xlabel(\"Height in cms\")\n",
    "plt.ylabel(\"Weight in kgs\")\n",
    "plt.legend()\n",
    "plt.savefig(\"Plot_1.png\",dpi = 1000)"
   ]
  },
  {
   "cell_type": "code",
   "execution_count": null,
   "metadata": {
    "collapsed": true
   },
   "outputs": [],
   "source": []
  }
 ],
 "metadata": {
  "kernelspec": {
   "display_name": "Python 3",
   "language": "python",
   "name": "python3"
  },
  "language_info": {
   "codemirror_mode": {
    "name": "ipython",
    "version": 3
   },
   "file_extension": ".py",
   "mimetype": "text/x-python",
   "name": "python",
   "nbconvert_exporter": "python",
   "pygments_lexer": "ipython3",
   "version": "3.6.3"
  }
 },
 "nbformat": 4,
 "nbformat_minor": 2
}
